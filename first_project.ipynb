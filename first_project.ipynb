{
 "cells": [
  {
   "cell_type": "markdown",
   "metadata": {},
   "source": [
    "<center>\n",
    "    <img src=\"https://cf-courses-data.s3.us.cloud-object-storage.appdomain.cloud/IBMDeveloperSkillsNetwork-DS0105EN-SkillsNetwork/labs/Module2/images/SN_web_lightmode.png\" width=\"300\" alt=\"cognitiveclass.ai logo\">\n",
    "</center>\n"
   ]
  },
  {
   "cell_type": "markdown",
   "metadata": {},
   "source": [
    "#### Add your code below following the instructions given in the course\n"
   ]
  },
  {
   "cell_type": "code",
   "execution_count": null,
   "metadata": {},
   "outputs": [],
   "source": [
    "Coursera tools for data science peer grade assignment"
   ]
  },
  {
   "cell_type": "code",
   "execution_count": 1,
   "metadata": {},
   "outputs": [
    {
     "name": "stdout",
     "output_type": "stream",
     "text": [
      "hello world\n"
     ]
    }
   ],
   "source": [
    "print(\"hello world\")"
   ]
  },
  {
   "cell_type": "code",
   "execution_count": 2,
   "metadata": {},
   "outputs": [
    {
     "data": {
      "text/plain": [
       "True"
      ]
     },
     "execution_count": 2,
     "metadata": {},
     "output_type": "execute_result"
    }
   ],
   "source": [
    "def gauss (n):\n",
    "    return (n*(n+1))/2\n",
    "\n",
    "gauss (100) == sum(range(101))"
   ]
  },
  {
   "cell_type": "code",
   "execution_count": 3,
   "metadata": {},
   "outputs": [
    {
     "name": "stdout",
     "output_type": "stream",
     "text": [
      "Multiplication Result: 15\n",
      "Addition Result: 8\n"
     ]
    }
   ],
   "source": [
    "a = 5\n",
    "b = 3\n",
    "\n",
    "# Multiply the numbers\n",
    "multiplication_result = a * b\n",
    "\n",
    "# Add the numbers\n",
    "addition_result = a + b\n",
    "\n",
    "# Display the results\n",
    "print(\"Multiplication Result:\", multiplication_result)\n",
    "print(\"Addition Result:\", addition_result)"
   ]
  },
  {
   "cell_type": "code",
   "execution_count": 4,
   "metadata": {},
   "outputs": [
    {
     "name": "stdout",
     "output_type": "stream",
     "text": [
      "120 minutes is equal to 2.0 hours\n"
     ]
    }
   ],
   "source": [
    "# Function to convert minutes to hours\n",
    "def convert_minutes_to_hours(minutes):\n",
    "    hours = minutes / 60\n",
    "    return hours\n",
    "\n",
    "# Example: Convert 120 minutes to hours\n",
    "minutes = 120\n",
    "hours = convert_minutes_to_hours(minutes)\n",
    "\n",
    "# Display the result\n",
    "print(f\"{minutes} minutes is equal to {hours} hours\")\n"
   ]
  },
  {
   "cell_type": "code",
   "execution_count": null,
   "metadata": {},
   "outputs": [],
   "source": [
    "data science language\n",
    "1. Python\n",
    "2. R\n",
    "3. Julia\n",
    "4. SQL\n",
    "5. Scala\n",
    "6. Java\n",
    "7. MATLAB\n",
    "8. SAS"
   ]
  },
  {
   "cell_type": "code",
   "execution_count": null,
   "metadata": {},
   "outputs": [],
   "source": [
    "### Data Science Libraries\n",
    "1. NumPy\n",
    "2. Pandas\n",
    "3. Matplotlib\n",
    "4. SciPy\n",
    "5. Scikit-learn\n",
    "6. TensorFlow\n",
    "7. Keras\n",
    "8. PyTorch\n",
    "9. Seaborn\n",
    "10. Statsmodels\n",
    "11. XGBoost\n",
    "12. LightGBM"
   ]
  },
  {
   "cell_type": "code",
   "execution_count": null,
   "metadata": {},
   "outputs": [],
   "source": [
    "### Data Science Tools\n",
    "\n",
    "| Tool             | Description                                     |\n",
    "|------------------|-------------------------------------------------|\n",
    "| Jupyter Notebook | Interactive computing environment for data analysis and visualization |\n",
    "| RStudio          | Integrated development environment for R        |\n",
    "| Apache Spark     | Unified analytics engine for large-scale data processing |\n",
    "| TensorFlow       | Open-source library for machine learning and deep learning |\n",
    "| Apache Hadoop    | Framework for distributed storage and processing of large data sets |\n",
    "| KNIME            | Open-source platform for data analytics, reporting, and integration |\n",
    "| MATLAB           | High-level language and interactive environment for numerical computation and visualization |\n"
   ]
  },
  {
   "cell_type": "code",
   "execution_count": null,
   "metadata": {},
   "outputs": [],
   "source": [
    "### Arithmetic Expression Examples\n",
    "\n",
    "Arithmetic expressions are used to perform mathematical operations such as addition, subtraction, multiplication, and division. Here are some common examples:\n",
    "\n",
    "- **Addition (+):** Adds two numbers (e.g., `3 + 2 = 5`)\n",
    "- **Subtraction (-):** Subtracts one number from another (e.g., `5 - 2 = 3`)\n",
    "- **Multiplication (\\*):** Multiplies two numbers (e.g., `4 * 3 = 12`)\n",
    "- **Division (/):** Divides one number by another (e.g., `10 / 2 = 5`)\n",
    "\n",
    "These expressions can be used in programming to manipulate data and solve various computational problems.\n"
   ]
  },
  {
   "cell_type": "code",
   "execution_count": null,
   "metadata": {},
   "outputs": [],
   "source": [
    "Author’s name = Abhay Valand"
   ]
  }
 ],
 "metadata": {
  "kernelspec": {
   "display_name": "Python 3 (ipykernel)",
   "language": "python",
   "name": "python3"
  },
  "language_info": {
   "codemirror_mode": {
    "name": "ipython",
    "version": 3
   },
   "file_extension": ".py",
   "mimetype": "text/x-python",
   "name": "python",
   "nbconvert_exporter": "python",
   "pygments_lexer": "ipython3",
   "version": "3.11.9"
  }
 },
 "nbformat": 4,
 "nbformat_minor": 4
}
